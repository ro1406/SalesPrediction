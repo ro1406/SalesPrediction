{
  "nbformat": 4,
  "nbformat_minor": 0,
  "metadata": {
    "colab": {
      "provenance": []
    },
    "kernelspec": {
      "name": "python3",
      "display_name": "Python 3"
    },
    "language_info": {
      "name": "python"
    }
  },
  "cells": [
    {
      "cell_type": "code",
      "execution_count": null,
      "metadata": {
        "id": "aRyLUerMVJYW"
      },
      "outputs": [],
      "source": [
        "!pip install darts"
      ]
    },
    {
      "cell_type": "code",
      "source": [
        "!pip install prophet"
      ],
      "metadata": {
        "id": "_VuD0AaDVQHd"
      },
      "execution_count": null,
      "outputs": []
    },
    {
      "cell_type": "code",
      "source": [
        "!pip install lightgbm"
      ],
      "metadata": {
        "id": "Ws1X537DXu_6"
      },
      "execution_count": null,
      "outputs": []
    },
    {
      "cell_type": "code",
      "source": [
        "#Optional - Uncomment if using google drive\n",
        "#from google.colab import drive\n",
        "#drive.mount('/content/drive')"
      ],
      "metadata": {
        "id": "sGDrLNMEVQJh"
      },
      "execution_count": null,
      "outputs": []
    },
    {
      "cell_type": "code",
      "source": [
        "dataset_path = \"\" #Add path to dataset here \"Preprocessed_dataset.csv\""
      ],
      "metadata": {
        "id": "eoava3dqXPhq"
      },
      "execution_count": null,
      "outputs": []
    },
    {
      "cell_type": "code",
      "source": [
        "import pandas as pd\n",
        "import matplotlib.pyplot as plt\n",
        "import seaborn as sns\n",
        "import numpy as np\n",
        "from darts import TimeSeries\n",
        "from darts.models import RegressionModel\n",
        "import lightgbm as lgbm"
      ],
      "metadata": {
        "id": "IzENfcrpVQMR"
      },
      "execution_count": null,
      "outputs": []
    },
    {
      "cell_type": "code",
      "source": [
        "def display_results_DARTS(ytest,preds):\n",
        "    # Plot the daily prediction vs real\n",
        "    plt.rcParams.update(plt.rcParamsDefault)\n",
        "    plt.figure(figsize=(12,8))\n",
        "    ytest.plot()\n",
        "    preds.plot()\n",
        "    plt.title(\"Real vs Prediction\")\n",
        "    plt.legend(['Real','Pred'])\n",
        "    plt.show()\n",
        "\n",
        "    #Plot the % difference between real and pred\n",
        "    ypred=preds.pd_dataframe()\n",
        "    ytrue=ytest.pd_dataframe()\n",
        "    r=pd.concat([ypred,ytrue],axis=1)\n",
        "    r.columns=['Predicted','Real']\n",
        "    r['Diff']=ypred-ytrue\n",
        "    r['%diff']=abs((r['Diff'])/r['Real'])*100\n",
        "\n",
        "    plt.rcParams.update(plt.rcParamsDefault)\n",
        "    plt.figure(figsize=(12,8))\n",
        "    plt.title(\"LGBM Regressor % diff distribution\")\n",
        "    sns.histplot(r['%diff'],bins=list(range(0,51,5)))\n",
        "    plt.show()"
      ],
      "metadata": {
        "id": "1cQIIfhwVQOa"
      },
      "execution_count": null,
      "outputs": []
    },
    {
      "cell_type": "code",
      "source": [
        "def display_results_Prophet(test,forecast):\n",
        "    plt.figure(figsize=(12,8))\n",
        "    plt.plot(test['y'],label='Real')\n",
        "    plt.plot(forecast['yhat'],label='Pred')\n",
        "    plt.fill_between(list(range(len(test))),forecast['yhat_lower'],forecast['yhat_upper'],label='Conf Int',color='orange',alpha=0.5)\n",
        "    plt.title(\"Real vs Prediction\")\n",
        "    plt.legend()\n",
        "    plt.show()\n",
        "\n",
        "    #Plot the % differences\n",
        "    rfeats=forecast[['ds','yhat_lower','yhat_upper','yhat']]\n",
        "    rfeats=pd.concat([rfeats,test.reset_index().y],axis=1)\n",
        "    rfeats.columns=['Date','Min','Max','Pred','Real']\n",
        "    rfeats['PredDiff']=abs(rfeats['Real']-rfeats['Pred'])\n",
        "    rfeats['%diff_Pred']=abs((rfeats['Real']-rfeats['Pred'])/rfeats['Real'])*100\n",
        "\n",
        "    plt.hist(rfeats['%diff_Pred'],bins=list(range(0,51,5)))\n",
        "    plt.title('Prophet w Feats % Difference per day')\n",
        "    plt.xlabel(\"% difference\")\n",
        "    plt.ylabel(\"Number of days\")\n",
        "    plt.show()"
      ],
      "metadata": {
        "id": "vhuZ5I9aV_-H"
      },
      "execution_count": null,
      "outputs": []
    },
    {
      "cell_type": "code",
      "source": [
        "df=pd.read_csv(dataset_path)\n",
        "df"
      ],
      "metadata": {
        "id": "9IwvIZPwXaxQ"
      },
      "execution_count": null,
      "outputs": []
    },
    {
      "cell_type": "code",
      "source": [],
      "metadata": {
        "id": "SttJdw-onbLV"
      },
      "execution_count": null,
      "outputs": []
    }
  ]
}